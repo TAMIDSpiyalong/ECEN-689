{
  "cells": [
    {
      "cell_type": "markdown",
      "metadata": {
        "id": "view-in-github",
        "colab_type": "text"
      },
      "source": [
        "<a href=\"https://colab.research.google.com/github/TAMIDSpiyalong/ECEN-689/blob/main/Day1.ipynb\" target=\"_parent\"><img src=\"https://colab.research.google.com/assets/colab-badge.svg\" alt=\"Open In Colab\"/></a>"
      ]
    },
    {
      "cell_type": "markdown",
      "metadata": {
        "id": "7E32xZbOYPUm"
      },
      "source": [
        "# Lab: Image Classification of an American Sign Language Dataset"
      ]
    },
    {
      "cell_type": "markdown",
      "metadata": {
        "id": "osC2cLOpYPUn"
      },
      "source": [
        "In this section, we will perform the data preparation, model creation, and model training steps using a dataset with images of hands making letters in [American Sign Language](http://www.asl.gs/)."
      ]
    },
    {
      "cell_type": "markdown",
      "metadata": {
        "id": "yiKRPw7gYPUn"
      },
      "source": [
        "## Objectives"
      ]
    },
    {
      "cell_type": "markdown",
      "metadata": {
        "id": "tiOK46uZYPUn"
      },
      "source": [
        "1. Use the [Keras API](https://keras.io/) to load the dataset and prepare it for training\n",
        "2. Create a simple neural network to perform image classification\n",
        "3. Create a convolutional neural network (CNN) for the same problem\n",
        "4. Observe the performance of the trained neural network"
      ]
    },
    {
      "cell_type": "markdown",
      "source": [
        "## The Problem: Image Classification"
      ],
      "metadata": {
        "id": "tmr_VYSm-oDF"
      }
    },
    {
      "cell_type": "markdown",
      "source": [
        "In traditional programming, the programmer is able to articulate rules and conditions in their code that their program can then use to act in the correct way. This approach continues to work exceptionally well for a huge variety of problems.\n",
        "\n",
        "Image classification, which asks a program to correctly classify an image it has never seen before into its correct class, is near impossible to solve with traditional programming techniques. How could a programmer possibly define the rules and conditions to correctly classify a huge variety of images, especially taking into account images that they have never seen?\n",
        "\n",
        "In this lab, the problem is to build a model to automatically classify a given hand guesture in an image to the correct letter category. Humans can do this task fairly easy but it is difficult for traditional codes. Nerual network is more suitable for this kind of complex problem if we have enough traing data."
      ],
      "metadata": {
        "id": "Tos8E4AG-qdF"
      }
    },
    {
      "cell_type": "markdown",
      "metadata": {
        "id": "szIr8wuPYPUn"
      },
      "source": [
        "## American Sign Language Dataset"
      ]
    },
    {
      "cell_type": "markdown",
      "metadata": {
        "id": "x17sf8RmYPUo"
      },
      "source": [
        "The [American Sign Language alphabet](http://www.asl.gs/) contains 26 letters. Two of those letters (j and z) require movement, so they are not included in the training dataset. The following code downloads the dataset hosted on the cloud to your colan directory. You can find the files in your file explorer."
      ]
    },
    {
      "cell_type": "code",
      "source": [
        "import gdown\n",
        "gdown.download('https://drive.google.com/uc?export=download&id=1I4whR9YZwwTlDnwP4Y9zpMRlKFmwALpN')\n",
        "\n",
        "gdown.download('https://drive.google.com/uc?export=download&id=1NwdQljfXfF8CwE4F1X62mmH9x0S9cyYr')"
      ],
      "metadata": {
        "colab": {
          "base_uri": "https://localhost:8080/",
          "height": 184
        },
        "id": "F5R_R8jVokdB",
        "outputId": "d235cee6-ae04-4e7c-95db-32d642406af1"
      },
      "execution_count": null,
      "outputs": [
        {
          "output_type": "stream",
          "name": "stderr",
          "text": [
            "Downloading...\n",
            "From: https://drive.google.com/uc?export=download&id=1I4whR9YZwwTlDnwP4Y9zpMRlKFmwALpN\n",
            "To: /content/sign_mnist_train.csv\n",
            "100%|██████████| 83.3M/83.3M [00:02<00:00, 31.5MB/s]\n",
            "Downloading...\n",
            "From: https://drive.google.com/uc?export=download&id=1NwdQljfXfF8CwE4F1X62mmH9x0S9cyYr\n",
            "To: /content/sign_mnist_test.csv\n",
            "100%|██████████| 21.8M/21.8M [00:00<00:00, 39.4MB/s]\n"
          ]
        },
        {
          "output_type": "execute_result",
          "data": {
            "text/plain": [
              "'sign_mnist_test.csv'"
            ],
            "application/vnd.google.colaboratory.intrinsic+json": {
              "type": "string"
            }
          },
          "metadata": {},
          "execution_count": 1
        }
      ]
    },
    {
      "cell_type": "markdown",
      "metadata": {
        "id": "fh6caR2NYPUo"
      },
      "source": [
        "### Kaggle"
      ]
    },
    {
      "cell_type": "markdown",
      "metadata": {
        "id": "U8rLNUqGYPUo"
      },
      "source": [
        "This dataset is available from the website [Kaggle](http://www.kaggle.com), which is a fantastic place to find datasets and other deep learning resources. In addition to providing resources like datasets and \"kernels\" that are like these notebooks, Kaggle hosts competitions that you can take part in, competing with others in training highly accurate models.\n",
        "\n",
        "If you're looking to practice or see examples of many deep learning projects, Kaggle is a great site to visit."
      ]
    },
    {
      "cell_type": "markdown",
      "metadata": {
        "id": "lyqZ45KHYPUo"
      },
      "source": [
        "## Training and Validation Data Split"
      ]
    },
    {
      "cell_type": "markdown",
      "metadata": {
        "id": "4BFJhI4CYPUo"
      },
      "source": [
        "When working with images for deep learning, we need both the images themselves, usually denoted as `X`, and also, correct [labels](https://developers.google.com/machine-learning/glossary#label) for these images, usually denoted as `Y`. Furthermore, we need `X` and `Y` values both for *training* the model, and then, a separate set of `X` and `Y` values for *validating* the performance of the model after it has been trained. Therefore, we need 4 segments of data for the dataset:\n",
        "\n",
        "1. `x_train`: Images used for training the neural network\n",
        "2. `y_train`: Correct labels for the `x_train` images, used to evaluate the model's predictions during training\n",
        "3. `x_valid`: Images set aside for validating the performance of the model after it has been trained\n",
        "4. `y_valid`: Correct labels for the `x_valid` images, used to evaluate the model's predictions after it has been trained\n",
        "\n",
        "The process of preparing data for analysis is called [Data Engineering](https://medium.com/@rchang/a-beginners-guide-to-data-engineering-part-i-4227c5c457d7). To learn more about the differences between training data and validation data (as well as test data), check out [this article](https://machinelearningmastery.com/difference-test-validation-datasets/) by Jason Brownlee."
      ]
    },
    {
      "cell_type": "markdown",
      "source": [
        "## Loading the Data"
      ],
      "metadata": {
        "id": "IeWwNBddDI7K"
      }
    },
    {
      "cell_type": "markdown",
      "metadata": {
        "id": "YotQkJjwYPUp"
      },
      "source": [
        "The sign language dataset is in [CSV](https://en.wikipedia.org/wiki/Comma-separated_values) (Comma Separated Values) format, the same data structure behind Microsoft Excel and Google Sheets. It is a grid of rows and columns with labels at the top, train and test dataset shold be downloaded in your colab folder now.\n",
        "\n",
        "To load and work with the data, we'll be using a library called [Pandas](https://pandas.pydata.org/), which is a highly performant tool for loading and manipulating data. We'll read the CSV files into a format called a [DataFrame](https://pandas.pydata.org/pandas-docs/stable/reference/api/pandas.DataFrame.html)."
      ]
    },
    {
      "cell_type": "code",
      "execution_count": null,
      "metadata": {
        "id": "ormmSc9qYPUp"
      },
      "outputs": [],
      "source": [
        "import pandas as pd"
      ]
    },
    {
      "cell_type": "markdown",
      "metadata": {
        "id": "gIY20QMjYPUq"
      },
      "source": [
        "Pandas has a [read_csv](https://pandas.pydata.org/pandas-docs/stable/reference/api/pandas.read_csv.html) method that expects a csv file, and returns a DataFrame:"
      ]
    },
    {
      "cell_type": "code",
      "execution_count": null,
      "metadata": {
        "id": "KFMSfDtQYPUq"
      },
      "outputs": [],
      "source": [
        "train_df = pd.read_csv(\"sign_mnist_train.csv\")\n",
        "valid_df = pd.read_csv(\"sign_mnist_test.csv\")"
      ]
    },
    {
      "cell_type": "markdown",
      "metadata": {
        "id": "nc5lHhbaYPUq"
      },
      "source": [
        "### Exploring the Data"
      ]
    },
    {
      "cell_type": "markdown",
      "metadata": {
        "id": "AGVehEEqYPUq"
      },
      "source": [
        "Let's take a look at our data. Each row is an image which has a `label` column, and also, 784 values representing each pixel value in the image. Note that the labels currently are numerical values, not letters of the alphabet:"
      ]
    },
    {
      "cell_type": "code",
      "execution_count": null,
      "metadata": {
        "id": "ASGwU6MAYPUq",
        "colab": {
          "base_uri": "https://localhost:8080/",
          "height": 423
        },
        "outputId": "b01ea501-9639-4814-fd52-e311656101de"
      },
      "outputs": [
        {
          "output_type": "execute_result",
          "data": {
            "text/plain": [
              "       label  pixel1  pixel2  pixel3  pixel4  pixel5  pixel6  pixel7  pixel8  \\\n",
              "0          3     107     118     127     134     139     143     146     150   \n",
              "1          6     155     157     156     156     156     157     156     158   \n",
              "2          2     187     188     188     187     187     186     187     188   \n",
              "3          2     211     211     212     212     211     210     211     210   \n",
              "4         13     164     167     170     172     176     179     180     184   \n",
              "...      ...     ...     ...     ...     ...     ...     ...     ...     ...   \n",
              "27450     13     189     189     190     190     192     193     193     193   \n",
              "27451     23     151     154     157     158     160     161     163     164   \n",
              "27452     18     174     174     174     174     174     175     175     174   \n",
              "27453     17     177     181     184     185     187     189     190     191   \n",
              "27454     23     179     180     180     180     182     181     182     183   \n",
              "\n",
              "       pixel9  ...  pixel775  pixel776  pixel777  pixel778  pixel779  \\\n",
              "0         153  ...       207       207       207       207       206   \n",
              "1         158  ...        69       149       128        87        94   \n",
              "2         187  ...       202       201       200       199       198   \n",
              "3         210  ...       235       234       233       231       230   \n",
              "4         185  ...        92       105       105       108       133   \n",
              "...       ...  ...       ...       ...       ...       ...       ...   \n",
              "27450     193  ...       132       165        99        77        52   \n",
              "27451     166  ...       198       198       198       198       198   \n",
              "27452     173  ...       121       196       209       208       206   \n",
              "27453     191  ...       119        56        27        58       102   \n",
              "27454     182  ...       108       132       170       194       214   \n",
              "\n",
              "       pixel780  pixel781  pixel782  pixel783  pixel784  \n",
              "0           206       206       204       203       202  \n",
              "1           163       175       103       135       149  \n",
              "2           199       198       195       194       195  \n",
              "3           226       225       222       229       163  \n",
              "4           163       157       163       164       179  \n",
              "...         ...       ...       ...       ...       ...  \n",
              "27450       200       234       200       222       225  \n",
              "27451       196       195       195       195       194  \n",
              "27452       204       203       202       200       200  \n",
              "27453        79        47        64        87        93  \n",
              "27454       203       197       205       209       215  \n",
              "\n",
              "[27455 rows x 785 columns]"
            ],
            "text/html": [
              "\n",
              "\n",
              "  <div id=\"df-6291f342-ba23-4224-93e1-0d37b22325c9\">\n",
              "    <div class=\"colab-df-container\">\n",
              "      <div>\n",
              "<style scoped>\n",
              "    .dataframe tbody tr th:only-of-type {\n",
              "        vertical-align: middle;\n",
              "    }\n",
              "\n",
              "    .dataframe tbody tr th {\n",
              "        vertical-align: top;\n",
              "    }\n",
              "\n",
              "    .dataframe thead th {\n",
              "        text-align: right;\n",
              "    }\n",
              "</style>\n",
              "<table border=\"1\" class=\"dataframe\">\n",
              "  <thead>\n",
              "    <tr style=\"text-align: right;\">\n",
              "      <th></th>\n",
              "      <th>label</th>\n",
              "      <th>pixel1</th>\n",
              "      <th>pixel2</th>\n",
              "      <th>pixel3</th>\n",
              "      <th>pixel4</th>\n",
              "      <th>pixel5</th>\n",
              "      <th>pixel6</th>\n",
              "      <th>pixel7</th>\n",
              "      <th>pixel8</th>\n",
              "      <th>pixel9</th>\n",
              "      <th>...</th>\n",
              "      <th>pixel775</th>\n",
              "      <th>pixel776</th>\n",
              "      <th>pixel777</th>\n",
              "      <th>pixel778</th>\n",
              "      <th>pixel779</th>\n",
              "      <th>pixel780</th>\n",
              "      <th>pixel781</th>\n",
              "      <th>pixel782</th>\n",
              "      <th>pixel783</th>\n",
              "      <th>pixel784</th>\n",
              "    </tr>\n",
              "  </thead>\n",
              "  <tbody>\n",
              "    <tr>\n",
              "      <th>0</th>\n",
              "      <td>3</td>\n",
              "      <td>107</td>\n",
              "      <td>118</td>\n",
              "      <td>127</td>\n",
              "      <td>134</td>\n",
              "      <td>139</td>\n",
              "      <td>143</td>\n",
              "      <td>146</td>\n",
              "      <td>150</td>\n",
              "      <td>153</td>\n",
              "      <td>...</td>\n",
              "      <td>207</td>\n",
              "      <td>207</td>\n",
              "      <td>207</td>\n",
              "      <td>207</td>\n",
              "      <td>206</td>\n",
              "      <td>206</td>\n",
              "      <td>206</td>\n",
              "      <td>204</td>\n",
              "      <td>203</td>\n",
              "      <td>202</td>\n",
              "    </tr>\n",
              "    <tr>\n",
              "      <th>1</th>\n",
              "      <td>6</td>\n",
              "      <td>155</td>\n",
              "      <td>157</td>\n",
              "      <td>156</td>\n",
              "      <td>156</td>\n",
              "      <td>156</td>\n",
              "      <td>157</td>\n",
              "      <td>156</td>\n",
              "      <td>158</td>\n",
              "      <td>158</td>\n",
              "      <td>...</td>\n",
              "      <td>69</td>\n",
              "      <td>149</td>\n",
              "      <td>128</td>\n",
              "      <td>87</td>\n",
              "      <td>94</td>\n",
              "      <td>163</td>\n",
              "      <td>175</td>\n",
              "      <td>103</td>\n",
              "      <td>135</td>\n",
              "      <td>149</td>\n",
              "    </tr>\n",
              "    <tr>\n",
              "      <th>2</th>\n",
              "      <td>2</td>\n",
              "      <td>187</td>\n",
              "      <td>188</td>\n",
              "      <td>188</td>\n",
              "      <td>187</td>\n",
              "      <td>187</td>\n",
              "      <td>186</td>\n",
              "      <td>187</td>\n",
              "      <td>188</td>\n",
              "      <td>187</td>\n",
              "      <td>...</td>\n",
              "      <td>202</td>\n",
              "      <td>201</td>\n",
              "      <td>200</td>\n",
              "      <td>199</td>\n",
              "      <td>198</td>\n",
              "      <td>199</td>\n",
              "      <td>198</td>\n",
              "      <td>195</td>\n",
              "      <td>194</td>\n",
              "      <td>195</td>\n",
              "    </tr>\n",
              "    <tr>\n",
              "      <th>3</th>\n",
              "      <td>2</td>\n",
              "      <td>211</td>\n",
              "      <td>211</td>\n",
              "      <td>212</td>\n",
              "      <td>212</td>\n",
              "      <td>211</td>\n",
              "      <td>210</td>\n",
              "      <td>211</td>\n",
              "      <td>210</td>\n",
              "      <td>210</td>\n",
              "      <td>...</td>\n",
              "      <td>235</td>\n",
              "      <td>234</td>\n",
              "      <td>233</td>\n",
              "      <td>231</td>\n",
              "      <td>230</td>\n",
              "      <td>226</td>\n",
              "      <td>225</td>\n",
              "      <td>222</td>\n",
              "      <td>229</td>\n",
              "      <td>163</td>\n",
              "    </tr>\n",
              "    <tr>\n",
              "      <th>4</th>\n",
              "      <td>13</td>\n",
              "      <td>164</td>\n",
              "      <td>167</td>\n",
              "      <td>170</td>\n",
              "      <td>172</td>\n",
              "      <td>176</td>\n",
              "      <td>179</td>\n",
              "      <td>180</td>\n",
              "      <td>184</td>\n",
              "      <td>185</td>\n",
              "      <td>...</td>\n",
              "      <td>92</td>\n",
              "      <td>105</td>\n",
              "      <td>105</td>\n",
              "      <td>108</td>\n",
              "      <td>133</td>\n",
              "      <td>163</td>\n",
              "      <td>157</td>\n",
              "      <td>163</td>\n",
              "      <td>164</td>\n",
              "      <td>179</td>\n",
              "    </tr>\n",
              "    <tr>\n",
              "      <th>...</th>\n",
              "      <td>...</td>\n",
              "      <td>...</td>\n",
              "      <td>...</td>\n",
              "      <td>...</td>\n",
              "      <td>...</td>\n",
              "      <td>...</td>\n",
              "      <td>...</td>\n",
              "      <td>...</td>\n",
              "      <td>...</td>\n",
              "      <td>...</td>\n",
              "      <td>...</td>\n",
              "      <td>...</td>\n",
              "      <td>...</td>\n",
              "      <td>...</td>\n",
              "      <td>...</td>\n",
              "      <td>...</td>\n",
              "      <td>...</td>\n",
              "      <td>...</td>\n",
              "      <td>...</td>\n",
              "      <td>...</td>\n",
              "      <td>...</td>\n",
              "    </tr>\n",
              "    <tr>\n",
              "      <th>27450</th>\n",
              "      <td>13</td>\n",
              "      <td>189</td>\n",
              "      <td>189</td>\n",
              "      <td>190</td>\n",
              "      <td>190</td>\n",
              "      <td>192</td>\n",
              "      <td>193</td>\n",
              "      <td>193</td>\n",
              "      <td>193</td>\n",
              "      <td>193</td>\n",
              "      <td>...</td>\n",
              "      <td>132</td>\n",
              "      <td>165</td>\n",
              "      <td>99</td>\n",
              "      <td>77</td>\n",
              "      <td>52</td>\n",
              "      <td>200</td>\n",
              "      <td>234</td>\n",
              "      <td>200</td>\n",
              "      <td>222</td>\n",
              "      <td>225</td>\n",
              "    </tr>\n",
              "    <tr>\n",
              "      <th>27451</th>\n",
              "      <td>23</td>\n",
              "      <td>151</td>\n",
              "      <td>154</td>\n",
              "      <td>157</td>\n",
              "      <td>158</td>\n",
              "      <td>160</td>\n",
              "      <td>161</td>\n",
              "      <td>163</td>\n",
              "      <td>164</td>\n",
              "      <td>166</td>\n",
              "      <td>...</td>\n",
              "      <td>198</td>\n",
              "      <td>198</td>\n",
              "      <td>198</td>\n",
              "      <td>198</td>\n",
              "      <td>198</td>\n",
              "      <td>196</td>\n",
              "      <td>195</td>\n",
              "      <td>195</td>\n",
              "      <td>195</td>\n",
              "      <td>194</td>\n",
              "    </tr>\n",
              "    <tr>\n",
              "      <th>27452</th>\n",
              "      <td>18</td>\n",
              "      <td>174</td>\n",
              "      <td>174</td>\n",
              "      <td>174</td>\n",
              "      <td>174</td>\n",
              "      <td>174</td>\n",
              "      <td>175</td>\n",
              "      <td>175</td>\n",
              "      <td>174</td>\n",
              "      <td>173</td>\n",
              "      <td>...</td>\n",
              "      <td>121</td>\n",
              "      <td>196</td>\n",
              "      <td>209</td>\n",
              "      <td>208</td>\n",
              "      <td>206</td>\n",
              "      <td>204</td>\n",
              "      <td>203</td>\n",
              "      <td>202</td>\n",
              "      <td>200</td>\n",
              "      <td>200</td>\n",
              "    </tr>\n",
              "    <tr>\n",
              "      <th>27453</th>\n",
              "      <td>17</td>\n",
              "      <td>177</td>\n",
              "      <td>181</td>\n",
              "      <td>184</td>\n",
              "      <td>185</td>\n",
              "      <td>187</td>\n",
              "      <td>189</td>\n",
              "      <td>190</td>\n",
              "      <td>191</td>\n",
              "      <td>191</td>\n",
              "      <td>...</td>\n",
              "      <td>119</td>\n",
              "      <td>56</td>\n",
              "      <td>27</td>\n",
              "      <td>58</td>\n",
              "      <td>102</td>\n",
              "      <td>79</td>\n",
              "      <td>47</td>\n",
              "      <td>64</td>\n",
              "      <td>87</td>\n",
              "      <td>93</td>\n",
              "    </tr>\n",
              "    <tr>\n",
              "      <th>27454</th>\n",
              "      <td>23</td>\n",
              "      <td>179</td>\n",
              "      <td>180</td>\n",
              "      <td>180</td>\n",
              "      <td>180</td>\n",
              "      <td>182</td>\n",
              "      <td>181</td>\n",
              "      <td>182</td>\n",
              "      <td>183</td>\n",
              "      <td>182</td>\n",
              "      <td>...</td>\n",
              "      <td>108</td>\n",
              "      <td>132</td>\n",
              "      <td>170</td>\n",
              "      <td>194</td>\n",
              "      <td>214</td>\n",
              "      <td>203</td>\n",
              "      <td>197</td>\n",
              "      <td>205</td>\n",
              "      <td>209</td>\n",
              "      <td>215</td>\n",
              "    </tr>\n",
              "  </tbody>\n",
              "</table>\n",
              "<p>27455 rows × 785 columns</p>\n",
              "</div>\n",
              "      <button class=\"colab-df-convert\" onclick=\"convertToInteractive('df-6291f342-ba23-4224-93e1-0d37b22325c9')\"\n",
              "              title=\"Convert this dataframe to an interactive table.\"\n",
              "              style=\"display:none;\">\n",
              "\n",
              "  <svg xmlns=\"http://www.w3.org/2000/svg\" height=\"24px\"viewBox=\"0 0 24 24\"\n",
              "       width=\"24px\">\n",
              "    <path d=\"M0 0h24v24H0V0z\" fill=\"none\"/>\n",
              "    <path d=\"M18.56 5.44l.94 2.06.94-2.06 2.06-.94-2.06-.94-.94-2.06-.94 2.06-2.06.94zm-11 1L8.5 8.5l.94-2.06 2.06-.94-2.06-.94L8.5 2.5l-.94 2.06-2.06.94zm10 10l.94 2.06.94-2.06 2.06-.94-2.06-.94-.94-2.06-.94 2.06-2.06.94z\"/><path d=\"M17.41 7.96l-1.37-1.37c-.4-.4-.92-.59-1.43-.59-.52 0-1.04.2-1.43.59L10.3 9.45l-7.72 7.72c-.78.78-.78 2.05 0 2.83L4 21.41c.39.39.9.59 1.41.59.51 0 1.02-.2 1.41-.59l7.78-7.78 2.81-2.81c.8-.78.8-2.07 0-2.86zM5.41 20L4 18.59l7.72-7.72 1.47 1.35L5.41 20z\"/>\n",
              "  </svg>\n",
              "      </button>\n",
              "\n",
              "\n",
              "\n",
              "    <div id=\"df-1c73ff38-714d-4d16-811d-4963306de7b7\">\n",
              "      <button class=\"colab-df-quickchart\" onclick=\"quickchart('df-1c73ff38-714d-4d16-811d-4963306de7b7')\"\n",
              "              title=\"Suggest charts.\"\n",
              "              style=\"display:none;\">\n",
              "\n",
              "<svg xmlns=\"http://www.w3.org/2000/svg\" height=\"24px\"viewBox=\"0 0 24 24\"\n",
              "     width=\"24px\">\n",
              "    <g>\n",
              "        <path d=\"M19 3H5c-1.1 0-2 .9-2 2v14c0 1.1.9 2 2 2h14c1.1 0 2-.9 2-2V5c0-1.1-.9-2-2-2zM9 17H7v-7h2v7zm4 0h-2V7h2v10zm4 0h-2v-4h2v4z\"/>\n",
              "    </g>\n",
              "</svg>\n",
              "      </button>\n",
              "    </div>\n",
              "\n",
              "<style>\n",
              "  .colab-df-quickchart {\n",
              "    background-color: #E8F0FE;\n",
              "    border: none;\n",
              "    border-radius: 50%;\n",
              "    cursor: pointer;\n",
              "    display: none;\n",
              "    fill: #1967D2;\n",
              "    height: 32px;\n",
              "    padding: 0 0 0 0;\n",
              "    width: 32px;\n",
              "  }\n",
              "\n",
              "  .colab-df-quickchart:hover {\n",
              "    background-color: #E2EBFA;\n",
              "    box-shadow: 0px 1px 2px rgba(60, 64, 67, 0.3), 0px 1px 3px 1px rgba(60, 64, 67, 0.15);\n",
              "    fill: #174EA6;\n",
              "  }\n",
              "\n",
              "  [theme=dark] .colab-df-quickchart {\n",
              "    background-color: #3B4455;\n",
              "    fill: #D2E3FC;\n",
              "  }\n",
              "\n",
              "  [theme=dark] .colab-df-quickchart:hover {\n",
              "    background-color: #434B5C;\n",
              "    box-shadow: 0px 1px 3px 1px rgba(0, 0, 0, 0.15);\n",
              "    filter: drop-shadow(0px 1px 2px rgba(0, 0, 0, 0.3));\n",
              "    fill: #FFFFFF;\n",
              "  }\n",
              "</style>\n",
              "\n",
              "    <script>\n",
              "      async function quickchart(key) {\n",
              "        const containerElement = document.querySelector('#' + key);\n",
              "        const charts = await google.colab.kernel.invokeFunction(\n",
              "            'suggestCharts', [key], {});\n",
              "      }\n",
              "    </script>\n",
              "\n",
              "      <script>\n",
              "\n",
              "function displayQuickchartButton(domScope) {\n",
              "  let quickchartButtonEl =\n",
              "    domScope.querySelector('#df-1c73ff38-714d-4d16-811d-4963306de7b7 button.colab-df-quickchart');\n",
              "  quickchartButtonEl.style.display =\n",
              "    google.colab.kernel.accessAllowed ? 'block' : 'none';\n",
              "}\n",
              "\n",
              "        displayQuickchartButton(document);\n",
              "      </script>\n",
              "      <style>\n",
              "    .colab-df-container {\n",
              "      display:flex;\n",
              "      flex-wrap:wrap;\n",
              "      gap: 12px;\n",
              "    }\n",
              "\n",
              "    .colab-df-convert {\n",
              "      background-color: #E8F0FE;\n",
              "      border: none;\n",
              "      border-radius: 50%;\n",
              "      cursor: pointer;\n",
              "      display: none;\n",
              "      fill: #1967D2;\n",
              "      height: 32px;\n",
              "      padding: 0 0 0 0;\n",
              "      width: 32px;\n",
              "    }\n",
              "\n",
              "    .colab-df-convert:hover {\n",
              "      background-color: #E2EBFA;\n",
              "      box-shadow: 0px 1px 2px rgba(60, 64, 67, 0.3), 0px 1px 3px 1px rgba(60, 64, 67, 0.15);\n",
              "      fill: #174EA6;\n",
              "    }\n",
              "\n",
              "    [theme=dark] .colab-df-convert {\n",
              "      background-color: #3B4455;\n",
              "      fill: #D2E3FC;\n",
              "    }\n",
              "\n",
              "    [theme=dark] .colab-df-convert:hover {\n",
              "      background-color: #434B5C;\n",
              "      box-shadow: 0px 1px 3px 1px rgba(0, 0, 0, 0.15);\n",
              "      filter: drop-shadow(0px 1px 2px rgba(0, 0, 0, 0.3));\n",
              "      fill: #FFFFFF;\n",
              "    }\n",
              "  </style>\n",
              "\n",
              "      <script>\n",
              "        const buttonEl =\n",
              "          document.querySelector('#df-6291f342-ba23-4224-93e1-0d37b22325c9 button.colab-df-convert');\n",
              "        buttonEl.style.display =\n",
              "          google.colab.kernel.accessAllowed ? 'block' : 'none';\n",
              "\n",
              "        async function convertToInteractive(key) {\n",
              "          const element = document.querySelector('#df-6291f342-ba23-4224-93e1-0d37b22325c9');\n",
              "          const dataTable =\n",
              "            await google.colab.kernel.invokeFunction('convertToInteractive',\n",
              "                                                     [key], {});\n",
              "          if (!dataTable) return;\n",
              "\n",
              "          const docLinkHtml = 'Like what you see? Visit the ' +\n",
              "            '<a target=\"_blank\" href=https://colab.research.google.com/notebooks/data_table.ipynb>data table notebook</a>'\n",
              "            + ' to learn more about interactive tables.';\n",
              "          element.innerHTML = '';\n",
              "          dataTable['output_type'] = 'display_data';\n",
              "          await google.colab.output.renderOutput(dataTable, element);\n",
              "          const docLink = document.createElement('div');\n",
              "          docLink.innerHTML = docLinkHtml;\n",
              "          element.appendChild(docLink);\n",
              "        }\n",
              "      </script>\n",
              "    </div>\n",
              "  </div>\n"
            ]
          },
          "metadata": {},
          "execution_count": 4
        }
      ],
      "source": [
        "train_df"
      ]
    },
    {
      "cell_type": "markdown",
      "source": [
        "The training dataset containes 27,455 grayscale images of hand gestures, corresponding to the first dimension of the matrix `train_df`. By executing the following cells, we can see the shape of the dataset 27455x785. Each row (image) itself will be reshaped back to the dimensions 28x28 without the labels. Similarly, there are 7,172 validation images."
      ],
      "metadata": {
        "id": "V6yAZRYNGBWV"
      }
    },
    {
      "cell_type": "code",
      "source": [
        "train_df.shape"
      ],
      "metadata": {
        "colab": {
          "base_uri": "https://localhost:8080/"
        },
        "id": "tTJKXR3_GGgV",
        "outputId": "8f6d0631-e757-4228-bbfb-4aecda44842f"
      },
      "execution_count": null,
      "outputs": [
        {
          "output_type": "execute_result",
          "data": {
            "text/plain": [
              "(27455, 785)"
            ]
          },
          "metadata": {},
          "execution_count": 5
        }
      ]
    },
    {
      "cell_type": "code",
      "source": [
        "valid_df.shape"
      ],
      "metadata": {
        "colab": {
          "base_uri": "https://localhost:8080/"
        },
        "id": "VCS7YtwyGQ8t",
        "outputId": "74efc11b-8acb-475a-a288-83cdf97147d0"
      },
      "execution_count": null,
      "outputs": [
        {
          "output_type": "execute_result",
          "data": {
            "text/plain": [
              "(7172, 785)"
            ]
          },
          "metadata": {},
          "execution_count": 6
        }
      ]
    },
    {
      "cell_type": "markdown",
      "metadata": {
        "id": "AsY_ba7SYPUq"
      },
      "source": [
        "### Extracting the Labels"
      ]
    },
    {
      "cell_type": "markdown",
      "metadata": {
        "id": "1fEnaO1vYPUq"
      },
      "source": [
        "We would like to store our training and validation labels in `y_train` and `y_valid` variables. Notice that the unique number lables are missing number 9 and 25 corresponding to letter `j` and `z`."
      ]
    },
    {
      "cell_type": "code",
      "execution_count": null,
      "metadata": {
        "id": "_oSIIfHOYPUr"
      },
      "outputs": [],
      "source": [
        "y_train = train_df['label']\n",
        "y_valid = valid_df['label']"
      ]
    },
    {
      "cell_type": "code",
      "source": [
        "print(sorted(y_train.unique()))\n",
        "print(sorted(y_valid.unique()))"
      ],
      "metadata": {
        "colab": {
          "base_uri": "https://localhost:8080/"
        },
        "id": "WqioVxXp0vau",
        "outputId": "10c4af72-d58c-4597-f063-61d6b068965b"
      },
      "execution_count": null,
      "outputs": [
        {
          "output_type": "stream",
          "name": "stdout",
          "text": [
            "[0, 1, 2, 3, 4, 5, 6, 7, 8, 10, 11, 12, 13, 14, 15, 16, 17, 18, 19, 20, 21, 22, 23, 24]\n",
            "[0, 1, 2, 3, 4, 5, 6, 7, 8, 10, 11, 12, 13, 14, 15, 16, 17, 18, 19, 20, 21, 22, 23, 24]\n"
          ]
        }
      ]
    },
    {
      "cell_type": "markdown",
      "metadata": {
        "id": "512aCkAiYPUr"
      },
      "source": [
        "### Extracting the Images"
      ]
    },
    {
      "cell_type": "markdown",
      "metadata": {
        "id": "hXI9rk73YPUr"
      },
      "source": [
        "We would like to store our training and validation images in `x_train` and `x_valid` variables. Here we create those variables. Note that we are dropping the `label` column so the second dimension of the dataset become 784 from 785."
      ]
    },
    {
      "cell_type": "code",
      "execution_count": null,
      "metadata": {
        "id": "pNP2JkiAYPUr"
      },
      "outputs": [],
      "source": [
        "x_train = train_df.drop(['label'],axis=1).values\n",
        "x_valid = valid_df.drop(['label'],axis=1).values"
      ]
    },
    {
      "cell_type": "markdown",
      "metadata": {
        "id": "Cly_1DElYPUs"
      },
      "source": [
        "We now have 27,455 images with 784 pixels each for training..."
      ]
    },
    {
      "cell_type": "code",
      "execution_count": null,
      "metadata": {
        "id": "wJFq11_bYPUs",
        "colab": {
          "base_uri": "https://localhost:8080/"
        },
        "outputId": "3568ce0e-0d6e-4db8-d18a-8b8702e009ac"
      },
      "outputs": [
        {
          "output_type": "execute_result",
          "data": {
            "text/plain": [
              "(27455, 784)"
            ]
          },
          "metadata": {},
          "execution_count": 10
        }
      ],
      "source": [
        "x_train.shape"
      ]
    },
    {
      "cell_type": "markdown",
      "metadata": {
        "id": "WfWp7Q8wYPUs"
      },
      "source": [
        "...as well as their corresponding labels:"
      ]
    },
    {
      "cell_type": "code",
      "execution_count": null,
      "metadata": {
        "id": "HHepzMrGYPUs",
        "colab": {
          "base_uri": "https://localhost:8080/"
        },
        "outputId": "56a1828f-2c5c-4796-bc37-aa724bb20cc9"
      },
      "outputs": [
        {
          "output_type": "execute_result",
          "data": {
            "text/plain": [
              "(27455,)"
            ]
          },
          "metadata": {},
          "execution_count": 11
        }
      ],
      "source": [
        "y_train.shape"
      ]
    },
    {
      "cell_type": "markdown",
      "metadata": {
        "id": "ykCJ1iGCYPUs"
      },
      "source": [
        "For validation, we have 7,172 images..."
      ]
    },
    {
      "cell_type": "code",
      "execution_count": null,
      "metadata": {
        "id": "YxI0nREUYPUs",
        "colab": {
          "base_uri": "https://localhost:8080/"
        },
        "outputId": "3b50748b-da8c-41ce-bb59-210a4809b637"
      },
      "outputs": [
        {
          "output_type": "execute_result",
          "data": {
            "text/plain": [
              "(7172, 784)"
            ]
          },
          "metadata": {},
          "execution_count": 12
        }
      ],
      "source": [
        "x_valid.shape"
      ]
    },
    {
      "cell_type": "markdown",
      "metadata": {
        "id": "Lh_O7539YPUs"
      },
      "source": [
        "...and their corresponding labels:"
      ]
    },
    {
      "cell_type": "code",
      "execution_count": null,
      "metadata": {
        "id": "pFqTQF-EYPUs",
        "colab": {
          "base_uri": "https://localhost:8080/"
        },
        "outputId": "9e59d4a0-3993-456b-93af-82d601131cf1"
      },
      "outputs": [
        {
          "output_type": "execute_result",
          "data": {
            "text/plain": [
              "(7172,)"
            ]
          },
          "metadata": {},
          "execution_count": 13
        }
      ],
      "source": [
        "y_valid.shape"
      ]
    },
    {
      "cell_type": "markdown",
      "metadata": {
        "id": "zJ0dm6ryYPUs"
      },
      "source": [
        "## Visualizing the Data"
      ]
    },
    {
      "cell_type": "markdown",
      "source": [
        "In neural networks, reshaping alters the dimensions of input tensors, flattening converts multi-dimensional arrays into one-dimensional vectors, and concatenating combines tensors along a specific axis. These operations enable efficient data manipulation, compatibility with different layers, and the integration of information from multiple sources or pathways within the network architecture. The following example shows what happens when we reshape."
      ],
      "metadata": {
        "id": "pUAZ8zn1Iauo"
      }
    },
    {
      "cell_type": "code",
      "source": [
        "import numpy as np\n",
        "\n",
        "# Creating a 1D array with 12 elements\n",
        "original_array = np.array([1, 2, 3, 4, 5, 6, 7, 8, 9, 10, 11, 12])\n",
        "\n",
        "# Reshaping the 1D array to a 2D array with 4 rows and 3 columns\n",
        "reshaped_array = original_array.reshape(4, 3)\n",
        "\n",
        "print(\"Original 1D array:\")\n",
        "print(original_array)\n",
        "print(\"Reshaped 2D array:\")\n",
        "print(reshaped_array)\n"
      ],
      "metadata": {
        "colab": {
          "base_uri": "https://localhost:8080/"
        },
        "id": "R4LgCygSIa34",
        "outputId": "b4868e15-aba4-4889-e961-6cddae8505c1"
      },
      "execution_count": null,
      "outputs": [
        {
          "output_type": "stream",
          "name": "stdout",
          "text": [
            "Original 1D array:\n",
            "[ 1  2  3  4  5  6  7  8  9 10 11 12]\n",
            "Reshaped 2D array:\n",
            "[[ 1  2  3]\n",
            " [ 4  5  6]\n",
            " [ 7  8  9]\n",
            " [10 11 12]]\n"
          ]
        }
      ]
    },
    {
      "cell_type": "markdown",
      "source": [
        "Each row has the dimension of 784."
      ],
      "metadata": {
        "id": "A0UEjs6VLtTB"
      }
    },
    {
      "cell_type": "code",
      "source": [
        "x_train[0].shape"
      ],
      "metadata": {
        "colab": {
          "base_uri": "https://localhost:8080/"
        },
        "id": "LV29Zo8LMMF2",
        "outputId": "9b51f3b1-2294-42e4-a72d-d93112bef519"
      },
      "execution_count": null,
      "outputs": [
        {
          "output_type": "execute_result",
          "data": {
            "text/plain": [
              "(784,)"
            ]
          },
          "metadata": {},
          "execution_count": 15
        }
      ]
    },
    {
      "cell_type": "markdown",
      "metadata": {
        "id": "FmRb6wtDYPUt"
      },
      "source": [
        "To visualize the images, we will use the matplotlib library. We don't need to worry about the details of this visualization, but if interested, you can learn more about [matplotlib](https://matplotlib.org/) at a later time.\n",
        "\n",
        "Note that we'll have to reshape the first data from its current 1D shape of 784 pixels, to a 2D shape of 28x28 pixels to make sense of the image:"
      ]
    },
    {
      "cell_type": "code",
      "source": [
        "import matplotlib.pyplot as plt\n",
        "\n",
        "# Replace this with your 784-dimensional vector representing the image\n",
        "image_vector = x_train[0]\n",
        "\n",
        "# Reshape the image vector to a 28x28 matrix\n",
        "image_matrix = image_vector.reshape(28, 28)\n",
        "\n",
        "# Visualize the image\n",
        "plt.imshow(image_matrix, cmap='gray')\n",
        "plt.title(\"Reshaped Image\")\n",
        "plt.show()\n"
      ],
      "metadata": {
        "colab": {
          "base_uri": "https://localhost:8080/",
          "height": 452
        },
        "id": "X7_RN6ZIIYOk",
        "outputId": "f2bfe859-0bbd-4faf-9aac-e5735e65412f"
      },
      "execution_count": null,
      "outputs": [
        {
          "output_type": "display_data",
          "data": {
            "text/plain": [
              "<Figure size 640x480 with 1 Axes>"
            ],
            "image/png": "[encoded data removed]"
          },
          "metadata": {}
        }
      ]
    },
    {
      "cell_type": "markdown",
      "source": [
        "Now we can show 20 images with the labels."
      ],
      "metadata": {
        "id": "R3MEgCTdL03I"
      }
    },
    {
      "cell_type": "code",
      "execution_count": null,
      "metadata": {
        "id": "g0j3KPjxYPUt",
        "colab": {
          "base_uri": "https://localhost:8080/",
          "height": 269
        },
        "outputId": "6160c3b2-cfe5-40ff-faf6-d00d392a482d"
      },
      "outputs": [
        {
          "output_type": "display_data",
          "data": {
            "text/plain": [
              "<Figure size 4000x4000 with 10 Axes>"
            ],
            "image/png": "[encoded data removed]"
          },
          "metadata": {}
        }
      ],
      "source": [
        "import matplotlib.pyplot as plt\n",
        "plt.figure(figsize=(40,40))\n",
        "\n",
        "num_images = 10\n",
        "for i in range(num_images):\n",
        "    row = x_train[i]\n",
        "    label = y_train[i]\n",
        "\n",
        "    image = row.reshape(28,28)\n",
        "    plt.subplot(1, num_images, i+1)\n",
        "    plt.title(label, fontdict={'fontsize': 30})\n",
        "    plt.axis('off')\n",
        "    plt.imshow(image, cmap='gray')"
      ]
    },
    {
      "cell_type": "markdown",
      "source": [
        "## Preparing the Data for Training"
      ],
      "metadata": {
        "id": "tK22VzRDM7bV"
      }
    },
    {
      "cell_type": "markdown",
      "source": [
        "In deep learning, it is common that data needs to be transformed to be in the ideal state for training. For this particular image classification problem, there are 3 tasks we should perform with the data in preparation for training:\n",
        "1. Flatten the image data, to simplify the image input into the model\n",
        "2. Normalize the image data, to make the image input values easier to work with for the model\n",
        "3. Categorize the labels, to make the label values easier to work with for the model"
      ],
      "metadata": {
        "id": "_T8Su90iM7pK"
      }
    },
    {
      "cell_type": "markdown",
      "source": [
        "## Normalizing the Image Data"
      ],
      "metadata": {
        "id": "vNlsswaSNtQn"
      }
    },
    {
      "cell_type": "markdown",
      "metadata": {
        "id": "Y33lIGXvYPUt"
      },
      "source": [
        "Deep learning models are better at dealing with floating point numbers between 0 and 1 (more on this topic later). Converting integer values to floating point values between 0 and 1 is called [normalization](https://developers.google.com/machine-learning/glossary#normalization), and a simple approach we will take here to normalize the data will be to divide all the pixel values (which if you recall are between 0 and 255) by 255:"
      ]
    },
    {
      "cell_type": "code",
      "execution_count": null,
      "metadata": {
        "id": "v2ce2nBxYPU0",
        "colab": {
          "base_uri": "https://localhost:8080/"
        },
        "outputId": "9e5efe5b-9417-43c9-b24b-02b0c240187f"
      },
      "outputs": [
        {
          "output_type": "execute_result",
          "data": {
            "text/plain": [
              "0"
            ]
          },
          "metadata": {},
          "execution_count": 18
        }
      ],
      "source": [
        "x_train.min()"
      ]
    },
    {
      "cell_type": "code",
      "execution_count": null,
      "metadata": {
        "id": "Rh8272ObYPU0",
        "colab": {
          "base_uri": "https://localhost:8080/"
        },
        "outputId": "45244387-591b-4eda-b39d-bd5568d8607f"
      },
      "outputs": [
        {
          "output_type": "execute_result",
          "data": {
            "text/plain": [
              "255"
            ]
          },
          "metadata": {},
          "execution_count": 19
        }
      ],
      "source": [
        "x_train.max()"
      ]
    },
    {
      "cell_type": "code",
      "execution_count": null,
      "metadata": {
        "jupyter": {
          "source_hidden": true
        },
        "id": "KQLwvUoPYPU0"
      },
      "outputs": [],
      "source": [
        "x_train = x_train / 255\n",
        "x_valid = x_valid / 255"
      ]
    },
    {
      "cell_type": "code",
      "source": [
        "x_train.min()"
      ],
      "metadata": {
        "colab": {
          "base_uri": "https://localhost:8080/"
        },
        "id": "n-9gtN98OPKY",
        "outputId": "2e40dbe0-3048-48ed-e56b-49cdcd665b8c"
      },
      "execution_count": null,
      "outputs": [
        {
          "output_type": "execute_result",
          "data": {
            "text/plain": [
              "0.0"
            ]
          },
          "metadata": {},
          "execution_count": 21
        }
      ]
    },
    {
      "cell_type": "code",
      "source": [
        "x_train.max()"
      ],
      "metadata": {
        "colab": {
          "base_uri": "https://localhost:8080/"
        },
        "id": "7U3JFQNmOPNt",
        "outputId": "5c267a82-bf5c-4b57-e74f-e0f4715ed858"
      },
      "execution_count": null,
      "outputs": [
        {
          "output_type": "execute_result",
          "data": {
            "text/plain": [
              "1.0"
            ]
          },
          "metadata": {},
          "execution_count": 22
        }
      ]
    },
    {
      "cell_type": "markdown",
      "metadata": {
        "id": "7MFy8iQLYPU0"
      },
      "source": [
        "## Categorize the Labels"
      ]
    },
    {
      "cell_type": "markdown",
      "metadata": {
        "id": "Yd70-f6kYPU1"
      },
      "source": [
        "We are going to categorically encode the labels. We can use the [keras.utils.to_categorical](https://www.tensorflow.org/api_docs/python/tf/keras/utils/to_categorical) method to accomplish this by passing it the values to encode, and, the number of categories to encode it into. Categorical encoding is a vital preprocessing step in machine learning to convert categorical variables into numerical format. This enables machine learning algorithms, which require numerical input, to effectively process and make predictions on diverse datasets. Encoding techniques like one-hot encoding and ordinal encoding preserve the underlying information of the categories and maintain compatibility with various algorithms."
      ]
    },
    {
      "cell_type": "code",
      "execution_count": null,
      "metadata": {
        "id": "LLpQZdBFYPU1"
      },
      "outputs": [],
      "source": [
        "import tensorflow.keras as keras\n",
        "num_classes = 26"
      ]
    },
    {
      "cell_type": "code",
      "execution_count": null,
      "metadata": {
        "jupyter": {
          "source_hidden": true
        },
        "id": "fn93ZRXZYPU1"
      },
      "outputs": [],
      "source": [
        "if not y_train.shape[-1] == 26:  # Avoid running multiple times\n",
        "    y_train = keras.utils.to_categorical(y_train, num_classes)\n",
        "    y_valid = keras.utils.to_categorical(y_valid, num_classes)"
      ]
    },
    {
      "cell_type": "code",
      "source": [],
      "metadata": {
        "id": "wjp3Oyugzkq2"
      },
      "execution_count": null,
      "outputs": []
    },
    {
      "cell_type": "markdown",
      "source": [
        "The following table shows for each image `X`, the encoded `Y` based on 26 classes hence 26 elements with one-hot encoding. One-hot encoding is a popular technique where each category is represented in binary (0 or 1). Each label vector has the same length as the total number of categories, and all elements are zero except for the index that corresponds to the category, which is set to one. One-hot encoding ensures that each category is uniquely represented, and it is particularly useful when there is no ordinal relationship among the categories."
      ],
      "metadata": {
        "id": "9aWVSRATWxNH"
      }
    },
    {
      "cell_type": "code",
      "source": [
        "import string\n",
        "df= pd.DataFrame(y_train[0]).astype(int)\n",
        "alphabet = list(string.ascii_uppercase)\n",
        "df['Letter'] = alphabet[:len(df)]\n",
        "df=df.rename(columns={0: 'One-hot Code'})\n",
        "df"
      ],
      "metadata": {
        "colab": {
          "base_uri": "https://localhost:8080/",
          "height": 864
        },
        "id": "kZG1DyEErpEZ",
        "outputId": "89a2380f-4215-472f-dc9f-b617700cf0f4"
      },
      "execution_count": null,
      "outputs": [
        {
          "output_type": "execute_result",
          "data": {
            "text/plain": [
              "    One-hot Code Letter\n",
              "0              0      A\n",
              "1              0      B\n",
              "2              0      C\n",
              "3              1      D\n",
              "4              0      E\n",
              "5              0      F\n",
              "6              0      G\n",
              "7              0      H\n",
              "8              0      I\n",
              "9              0      J\n",
              "10             0      K\n",
              "11             0      L\n",
              "12             0      M\n",
              "13             0      N\n",
              "14             0      O\n",
              "15             0      P\n",
              "16             0      Q\n",
              "17             0      R\n",
              "18             0      S\n",
              "19             0      T\n",
              "20             0      U\n",
              "21             0      V\n",
              "22             0      W\n",
              "23             0      X\n",
              "24             0      Y\n",
              "25             0      Z"
            ],
            "text/html": [
              "\n",
              "\n",
              "  <div id=\"df-e8caa1ab-78b5-497b-a323-5091497fe785\">\n",
              "    <div class=\"colab-df-container\">\n",
              "      <div>\n",
              "<style scoped>\n",
              "    .dataframe tbody tr th:only-of-type {\n",
              "        vertical-align: middle;\n",
              "    }\n",
              "\n",
              "    .dataframe tbody tr th {\n",
              "        vertical-align: top;\n",
              "    }\n",
              "\n",
              "    .dataframe thead th {\n",
              "        text-align: right;\n",
              "    }\n",
              "</style>\n",
              "<table border=\"1\" class=\"dataframe\">\n",
              "  <thead>\n",
              "    <tr style=\"text-align: right;\">\n",
              "      <th></th>\n",
              "      <th>One-hot Code</th>\n",
              "      <th>Letter</th>\n",
              "    </tr>\n",
              "  </thead>\n",
              "  <tbody>\n",
              "    <tr>\n",
              "      <th>0</th>\n",
              "      <td>0</td>\n",
              "      <td>A</td>\n",
              "    </tr>\n",
              "    <tr>\n",
              "      <th>1</th>\n",
              "      <td>0</td>\n",
              "      <td>B</td>\n",
              "    </tr>\n",
              "    <tr>\n",
              "      <th>2</th>\n",
              "      <td>0</td>\n",
              "      <td>C</td>\n",
              "    </tr>\n",
              "    <tr>\n",
              "      <th>3</th>\n",
              "      <td>1</td>\n",
              "      <td>D</td>\n",
              "    </tr>\n",
              "    <tr>\n",
              "      <th>4</th>\n",
              "      <td>0</td>\n",
              "      <td>E</td>\n",
              "    </tr>\n",
              "    <tr>\n",
              "      <th>5</th>\n",
              "      <td>0</td>\n",
              "      <td>F</td>\n",
              "    </tr>\n",
              "    <tr>\n",
              "      <th>6</th>\n",
              "      <td>0</td>\n",
              "      <td>G</td>\n",
              "    </tr>\n",
              "    <tr>\n",
              "      <th>7</th>\n",
              "      <td>0</td>\n",
              "      <td>H</td>\n",
              "    </tr>\n",
              "    <tr>\n",
              "      <th>8</th>\n",
              "      <td>0</td>\n",
              "      <td>I</td>\n",
              "    </tr>\n",
              "    <tr>\n",
              "      <th>9</th>\n",
              "      <td>0</td>\n",
              "      <td>J</td>\n",
              "    </tr>\n",
              "    <tr>\n",
              "      <th>10</th>\n",
              "      <td>0</td>\n",
              "      <td>K</td>\n",
              "    </tr>\n",
              "    <tr>\n",
              "      <th>11</th>\n",
              "      <td>0</td>\n",
              "      <td>L</td>\n",
              "    </tr>\n",
              "    <tr>\n",
              "      <th>12</th>\n",
              "      <td>0</td>\n",
              "      <td>M</td>\n",
              "    </tr>\n",
              "    <tr>\n",
              "      <th>13</th>\n",
              "      <td>0</td>\n",
              "      <td>N</td>\n",
              "    </tr>\n",
              "    <tr>\n",
              "      <th>14</th>\n",
              "      <td>0</td>\n",
              "      <td>O</td>\n",
              "    </tr>\n",
              "    <tr>\n",
              "      <th>15</th>\n",
              "      <td>0</td>\n",
              "      <td>P</td>\n",
              "    </tr>\n",
              "    <tr>\n",
              "      <th>16</th>\n",
              "      <td>0</td>\n",
              "      <td>Q</td>\n",
              "    </tr>\n",
              "    <tr>\n",
              "      <th>17</th>\n",
              "      <td>0</td>\n",
              "      <td>R</td>\n",
              "    </tr>\n",
              "    <tr>\n",
              "      <th>18</th>\n",
              "      <td>0</td>\n",
              "      <td>S</td>\n",
              "    </tr>\n",
              "    <tr>\n",
              "      <th>19</th>\n",
              "      <td>0</td>\n",
              "      <td>T</td>\n",
              "    </tr>\n",
              "    <tr>\n",
              "      <th>20</th>\n",
              "      <td>0</td>\n",
              "      <td>U</td>\n",
              "    </tr>\n",
              "    <tr>\n",
              "      <th>21</th>\n",
              "      <td>0</td>\n",
              "      <td>V</td>\n",
              "    </tr>\n",
              "    <tr>\n",
              "      <th>22</th>\n",
              "      <td>0</td>\n",
              "      <td>W</td>\n",
              "    </tr>\n",
              "    <tr>\n",
              "      <th>23</th>\n",
              "      <td>0</td>\n",
              "      <td>X</td>\n",
              "    </tr>\n",
              "    <tr>\n",
              "      <th>24</th>\n",
              "      <td>0</td>\n",
              "      <td>Y</td>\n",
              "    </tr>\n",
              "    <tr>\n",
              "      <th>25</th>\n",
              "      <td>0</td>\n",
              "      <td>Z</td>\n",
              "    </tr>\n",
              "  </tbody>\n",
              "</table>\n",
              "</div>\n",
              "      <button class=\"colab-df-convert\" onclick=\"convertToInteractive('df-e8caa1ab-78b5-497b-a323-5091497fe785')\"\n",
              "              title=\"Convert this dataframe to an interactive table.\"\n",
              "              style=\"display:none;\">\n",
              "\n",
              "  <svg xmlns=\"http://www.w3.org/2000/svg\" height=\"24px\"viewBox=\"0 0 24 24\"\n",
              "       width=\"24px\">\n",
              "    <path d=\"M0 0h24v24H0V0z\" fill=\"none\"/>\n",
              "    <path d=\"M18.56 5.44l.94 2.06.94-2.06 2.06-.94-2.06-.94-.94-2.06-.94 2.06-2.06.94zm-11 1L8.5 8.5l.94-2.06 2.06-.94-2.06-.94L8.5 2.5l-.94 2.06-2.06.94zm10 10l.94 2.06.94-2.06 2.06-.94-2.06-.94-.94-2.06-.94 2.06-2.06.94z\"/><path d=\"M17.41 7.96l-1.37-1.37c-.4-.4-.92-.59-1.43-.59-.52 0-1.04.2-1.43.59L10.3 9.45l-7.72 7.72c-.78.78-.78 2.05 0 2.83L4 21.41c.39.39.9.59 1.41.59.51 0 1.02-.2 1.41-.59l7.78-7.78 2.81-2.81c.8-.78.8-2.07 0-2.86zM5.41 20L4 18.59l7.72-7.72 1.47 1.35L5.41 20z\"/>\n",
              "  </svg>\n",
              "      </button>\n",
              "\n",
              "\n",
              "\n",
              "    <div id=\"df-07f7c579-ed2e-4455-a883-7fbe941da8f4\">\n",
              "      <button class=\"colab-df-quickchart\" onclick=\"quickchart('df-07f7c579-ed2e-4455-a883-7fbe941da8f4')\"\n",
              "              title=\"Suggest charts.\"\n",
              "              style=\"display:none;\">\n",
              "\n",
              "<svg xmlns=\"http://www.w3.org/2000/svg\" height=\"24px\"viewBox=\"0 0 24 24\"\n",
              "     width=\"24px\">\n",
              "    <g>\n",
              "        <path d=\"M19 3H5c-1.1 0-2 .9-2 2v14c0 1.1.9 2 2 2h14c1.1 0 2-.9 2-2V5c0-1.1-.9-2-2-2zM9 17H7v-7h2v7zm4 0h-2V7h2v10zm4 0h-2v-4h2v4z\"/>\n",
              "    </g>\n",
              "</svg>\n",
              "      </button>\n",
              "    </div>\n",
              "\n",
              "<style>\n",
              "  .colab-df-quickchart {\n",
              "    background-color: #E8F0FE;\n",
              "    border: none;\n",
              "    border-radius: 50%;\n",
              "    cursor: pointer;\n",
              "    display: none;\n",
              "    fill: #1967D2;\n",
              "    height: 32px;\n",
              "    padding: 0 0 0 0;\n",
              "    width: 32px;\n",
              "  }\n",
              "\n",
              "  .colab-df-quickchart:hover {\n",
              "    background-color: #E2EBFA;\n",
              "    box-shadow: 0px 1px 2px rgba(60, 64, 67, 0.3), 0px 1px 3px 1px rgba(60, 64, 67, 0.15);\n",
              "    fill: #174EA6;\n",
              "  }\n",
              "\n",
              "  [theme=dark] .colab-df-quickchart {\n",
              "    background-color: #3B4455;\n",
              "    fill: #D2E3FC;\n",
              "  }\n",
              "\n",
              "  [theme=dark] .colab-df-quickchart:hover {\n",
              "    background-color: #434B5C;\n",
              "    box-shadow: 0px 1px 3px 1px rgba(0, 0, 0, 0.15);\n",
              "    filter: drop-shadow(0px 1px 2px rgba(0, 0, 0, 0.3));\n",
              "    fill: #FFFFFF;\n",
              "  }\n",
              "</style>\n",
              "\n",
              "    <script>\n",
              "      async function quickchart(key) {\n",
              "        const containerElement = document.querySelector('#' + key);\n",
              "        const charts = await google.colab.kernel.invokeFunction(\n",
              "            'suggestCharts', [key], {});\n",
              "      }\n",
              "    </script>\n",
              "\n",
              "      <script>\n",
              "\n",
              "function displayQuickchartButton(domScope) {\n",
              "  let quickchartButtonEl =\n",
              "    domScope.querySelector('#df-07f7c579-ed2e-4455-a883-7fbe941da8f4 button.colab-df-quickchart');\n",
              "  quickchartButtonEl.style.display =\n",
              "    google.colab.kernel.accessAllowed ? 'block' : 'none';\n",
              "}\n",
              "\n",
              "        displayQuickchartButton(document);\n",
              "      </script>\n",
              "      <style>\n",
              "    .colab-df-container {\n",
              "      display:flex;\n",
              "      flex-wrap:wrap;\n",
              "      gap: 12px;\n",
              "    }\n",
              "\n",
              "    .colab-df-convert {\n",
              "      background-color: #E8F0FE;\n",
              "      border: none;\n",
              "      border-radius: 50%;\n",
              "      cursor: pointer;\n",
              "      display: none;\n",
              "      fill: #1967D2;\n",
              "      height: 32px;\n",
              "      padding: 0 0 0 0;\n",
              "      width: 32px;\n",
              "    }\n",
              "\n",
              "    .colab-df-convert:hover {\n",
              "      background-color: #E2EBFA;\n",
              "      box-shadow: 0px 1px 2px rgba(60, 64, 67, 0.3), 0px 1px 3px 1px rgba(60, 64, 67, 0.15);\n",
              "      fill: #174EA6;\n",
              "    }\n",
              "\n",
              "    [theme=dark] .colab-df-convert {\n",
              "      background-color: #3B4455;\n",
              "      fill: #D2E3FC;\n",
              "    }\n",
              "\n",
              "    [theme=dark] .colab-df-convert:hover {\n",
              "      background-color: #434B5C;\n",
              "      box-shadow: 0px 1px 3px 1px rgba(0, 0, 0, 0.15);\n",
              "      filter: drop-shadow(0px 1px 2px rgba(0, 0, 0, 0.3));\n",
              "      fill: #FFFFFF;\n",
              "    }\n",
              "  </style>\n",
              "\n",
              "      <script>\n",
              "        const buttonEl =\n",
              "          document.querySelector('#df-e8caa1ab-78b5-497b-a323-5091497fe785 button.colab-df-convert');\n",
              "        buttonEl.style.display =\n",
              "          google.colab.kernel.accessAllowed ? 'block' : 'none';\n",
              "\n",
              "        async function convertToInteractive(key) {\n",
              "          const element = document.querySelector('#df-e8caa1ab-78b5-497b-a323-5091497fe785');\n",
              "          const dataTable =\n",
              "            await google.colab.kernel.invokeFunction('convertToInteractive',\n",
              "                                                     [key], {});\n",
              "          if (!dataTable) return;\n",
              "\n",
              "          const docLinkHtml = 'Like what you see? Visit the ' +\n",
              "            '<a target=\"_blank\" href=https://colab.research.google.com/notebooks/data_table.ipynb>data table notebook</a>'\n",
              "            + ' to learn more about interactive tables.';\n",
              "          element.innerHTML = '';\n",
              "          dataTable['output_type'] = 'display_data';\n",
              "          await google.colab.output.renderOutput(dataTable, element);\n",
              "          const docLink = document.createElement('div');\n",
              "          docLink.innerHTML = docLinkHtml;\n",
              "          element.appendChild(docLink);\n",
              "        }\n",
              "      </script>\n",
              "    </div>\n",
              "  </div>\n"
            ]
          },
          "metadata": {},
          "execution_count": 25
        }
      ]
    },
    {
      "cell_type": "markdown",
      "source": [
        "We can show many data points at once and this will be a matrix instead of one list. Each row represents on image and you can check the shape."
      ],
      "metadata": {
        "id": "u12vzQBoZcOY"
      }
    },
    {
      "cell_type": "code",
      "source": [
        "y_train[0]"
      ],
      "metadata": {
        "id": "CHDN5pFiy0a5",
        "colab": {
          "base_uri": "https://localhost:8080/"
        },
        "outputId": "2772c85e-e6ff-465a-cc3d-1ed74a0cdb26"
      },
      "execution_count": null,
      "outputs": [
        {
          "output_type": "execute_result",
          "data": {
            "text/plain": [
              "array([0., 0., 0., 1., 0., 0., 0., 0., 0., 0., 0., 0., 0., 0., 0., 0., 0.,\n",
              "       0., 0., 0., 0., 0., 0., 0., 0., 0.], dtype=float32)"
            ]
          },
          "metadata": {},
          "execution_count": 26
        }
      ]
    },
    {
      "cell_type": "code",
      "source": [
        "y_train[:10]"
      ],
      "metadata": {
        "colab": {
          "base_uri": "https://localhost:8080/"
        },
        "id": "sfwreXBIq5Et",
        "outputId": "39722750-1207-46f0-d2db-ae6c2edd154e"
      },
      "execution_count": null,
      "outputs": [
        {
          "output_type": "execute_result",
          "data": {
            "text/plain": [
              "array([[0., 0., 0., 1., 0., 0., 0., 0., 0., 0., 0., 0., 0., 0., 0., 0.,\n",
              "        0., 0., 0., 0., 0., 0., 0., 0., 0., 0.],\n",
              "       [0., 0., 0., 0., 0., 0., 1., 0., 0., 0., 0., 0., 0., 0., 0., 0.,\n",
              "        0., 0., 0., 0., 0., 0., 0., 0., 0., 0.],\n",
              "       [0., 0., 1., 0., 0., 0., 0., 0., 0., 0., 0., 0., 0., 0., 0., 0.,\n",
              "        0., 0., 0., 0., 0., 0., 0., 0., 0., 0.],\n",
              "       [0., 0., 1., 0., 0., 0., 0., 0., 0., 0., 0., 0., 0., 0., 0., 0.,\n",
              "        0., 0., 0., 0., 0., 0., 0., 0., 0., 0.],\n",
              "       [0., 0., 0., 0., 0., 0., 0., 0., 0., 0., 0., 0., 0., 1., 0., 0.,\n",
              "        0., 0., 0., 0., 0., 0., 0., 0., 0., 0.],\n",
              "       [0., 0., 0., 0., 0., 0., 0., 0., 0., 0., 0., 0., 0., 0., 0., 0.,\n",
              "        1., 0., 0., 0., 0., 0., 0., 0., 0., 0.],\n",
              "       [0., 0., 0., 0., 0., 0., 0., 0., 1., 0., 0., 0., 0., 0., 0., 0.,\n",
              "        0., 0., 0., 0., 0., 0., 0., 0., 0., 0.],\n",
              "       [0., 0., 0., 0., 0., 0., 0., 0., 0., 0., 0., 0., 0., 0., 0., 0.,\n",
              "        0., 0., 0., 0., 0., 0., 1., 0., 0., 0.],\n",
              "       [0., 0., 0., 1., 0., 0., 0., 0., 0., 0., 0., 0., 0., 0., 0., 0.,\n",
              "        0., 0., 0., 0., 0., 0., 0., 0., 0., 0.],\n",
              "       [0., 0., 0., 1., 0., 0., 0., 0., 0., 0., 0., 0., 0., 0., 0., 0.,\n",
              "        0., 0., 0., 0., 0., 0., 0., 0., 0., 0.]], dtype=float32)"
            ]
          },
          "metadata": {},
          "execution_count": 27
        }
      ]
    },
    {
      "cell_type": "code",
      "source": [
        "x_valid.shape"
      ],
      "metadata": {
        "colab": {
          "base_uri": "https://localhost:8080/"
        },
        "id": "AzVeCQi75v4d",
        "outputId": "3c9bbce7-8711-42bc-8635-f78072c22014"
      },
      "execution_count": null,
      "outputs": [
        {
          "output_type": "execute_result",
          "data": {
            "text/plain": [
              "(7172, 784)"
            ]
          },
          "metadata": {},
          "execution_count": 28
        }
      ]
    },
    {
      "cell_type": "markdown",
      "metadata": {
        "id": "-dqSHO4SYPU1"
      },
      "source": [
        "## Build the Model"
      ]
    },
    {
      "cell_type": "markdown",
      "metadata": {
        "id": "TyLRZtkpYPU1"
      },
      "source": [
        "The data is all prepared, we have normalized images for training and validation, as well as categorically encoded labels for training and validation.\n",
        "\n",
        "For this exercise we are going to build a sequential model. Just like last time, build a model that:\n",
        "* Has a dense input layer. This layer should contain 512 neurons, use the `relu` activation function, and expect input images with a shape of `(784,)`\n",
        "* Has a second dense layer with 512 neurons which uses the `relu` activation function\n",
        "* Has a dense output layer with neurons equal to the number of classes, using the `softmax` activation function\n",
        "\n",
        "Do your work in the cell below, creating a `model` variable to store the model. We've imported the Keras [Sequental](https://www.tensorflow.org/api_docs/python/tf/keras/Sequential) model class and [Dense](https://www.tensorflow.org/api_docs/python/tf/keras/layers/Dense) layer class to get you started. Reveal the solution below for a hint:"
      ]
    },
    {
      "cell_type": "code",
      "execution_count": null,
      "metadata": {
        "id": "5KsqfViOYPU2"
      },
      "outputs": [],
      "source": [
        "from tensorflow.keras.models import Sequential\n",
        "from tensorflow.keras.layers import Dense"
      ]
    },
    {
      "cell_type": "code",
      "execution_count": null,
      "metadata": {
        "jupyter": {
          "source_hidden": true
        },
        "id": "RRzhKKWLYPU2"
      },
      "outputs": [],
      "source": [
        "model = Sequential()\n",
        "model.add(Dense(units = 512, activation='relu', input_shape=(784,)))\n",
        "model.add(Dense(units = 512, activation='relu'))\n",
        "model.add(Dense(units = num_classes, activation='softmax'))"
      ]
    },
    {
      "cell_type": "markdown",
      "metadata": {
        "id": "u3N6WJM1YPU2"
      },
      "source": [
        "## Summarizing the Model"
      ]
    },
    {
      "cell_type": "markdown",
      "metadata": {
        "id": "m36xB2DwYPU2"
      },
      "source": [
        "Run the cell below to summarize the model you just created:"
      ]
    },
    {
      "cell_type": "code",
      "execution_count": null,
      "metadata": {
        "id": "ihdBN7HEYPU3",
        "colab": {
          "base_uri": "https://localhost:8080/"
        },
        "outputId": "8ca80dab-a828-4127-d54f-dd5f6a6c697a"
      },
      "outputs": [
        {
          "output_type": "stream",
          "name": "stdout",
          "text": [
            "Model: \"sequential\"\n",
            "_________________________________________________________________\n",
            " Layer (type)                Output Shape              Param #   \n",
            "=================================================================\n",
            " dense (Dense)               (None, 512)               401920    \n",
            "                                                                 \n",
            " dense_1 (Dense)             (None, 512)               262656    \n",
            "                                                                 \n",
            " dense_2 (Dense)             (None, 26)                13338     \n",
            "                                                                 \n",
            "=================================================================\n",
            "Total params: 677,914\n",
            "Trainable params: 677,914\n",
            "Non-trainable params: 0\n",
            "_________________________________________________________________\n"
          ]
        }
      ],
      "source": [
        "model.summary()"
      ]
    },
    {
      "cell_type": "markdown",
      "source": [
        "We can also visualize the model structure. Check if the parameters match the input output dimensions for each layer."
      ],
      "metadata": {
        "id": "aY3a4rhpXPlK"
      }
    },
    {
      "cell_type": "code",
      "source": [
        "keras.utils.plot_model(model, show_shapes=True)\n"
      ],
      "metadata": {
        "colab": {
          "base_uri": "https://localhost:8080/",
          "height": 422
        },
        "id": "QcVpYLdAXTI4",
        "outputId": "11605f2a-0afe-46fb-89cb-cad3b00cffd8"
      },
      "execution_count": null,
      "outputs": [
        {
          "output_type": "execute_result",
          "data": {
            "image/png": "[encoded data removed]",
            "text/plain": [
              "<IPython.core.display.Image object>"
            ]
          },
          "metadata": {},
          "execution_count": 39
        }
      ]
    },
    {
      "cell_type": "markdown",
      "metadata": {
        "id": "LtQBlcw_YPU3"
      },
      "source": [
        "## Compiling the Model"
      ]
    },
    {
      "cell_type": "markdown",
      "metadata": {
        "id": "urgrxBcGYPU3"
      },
      "source": [
        "We'll [compile](https://www.tensorflow.org/api_docs/python/tf/keras/Sequential#compile) our model with the same options as before, using [categorical crossentropy](https://www.tensorflow.org/api_docs/python/tf/keras/losses/CategoricalCrossentropy) to reflect the fact that we want to fit into one of many categories, and measuring the accuracy of our model. Besides loss [accuracy](https://keras.io/api/metrics/accuracy_metrics/) is also reported."
      ]
    },
    {
      "cell_type": "code",
      "execution_count": null,
      "metadata": {
        "id": "l01dCezQYPU3"
      },
      "outputs": [],
      "source": [
        "model.compile(loss='categorical_crossentropy', metrics=['accuracy'])"
      ]
    },
    {
      "cell_type": "markdown",
      "metadata": {
        "id": "jzL7iqmrYPU3"
      },
      "source": [
        "## Train the Model"
      ]
    },
    {
      "cell_type": "code",
      "execution_count": null,
      "metadata": {
        "jupyter": {
          "source_hidden": true
        },
        "id": "p06Sd-vAYPU4",
        "colab": {
          "base_uri": "https://localhost:8080/"
        },
        "outputId": "4ff5656f-104e-498b-e453-0a81d04b9551"
      },
      "outputs": [
        {
          "output_type": "stream",
          "name": "stdout",
          "text": [
            "Epoch 1/10\n",
            "858/858 [==============================] - 13s 15ms/step - loss: 1.1955 - accuracy: 0.6025 - val_loss: 1.3513 - val_accuracy: 0.5986\n",
            "Epoch 2/10\n",
            "858/858 [==============================] - 9s 10ms/step - loss: 0.6872 - accuracy: 0.7654 - val_loss: 1.1377 - val_accuracy: 0.6378\n",
            "Epoch 3/10\n",
            "858/858 [==============================] - 9s 11ms/step - loss: 0.4523 - accuracy: 0.8508 - val_loss: 1.2325 - val_accuracy: 0.6765\n",
            "Epoch 4/10\n",
            "858/858 [==============================] - 11s 12ms/step - loss: 0.3219 - accuracy: 0.8989 - val_loss: 1.0373 - val_accuracy: 0.7472\n",
            "Epoch 5/10\n",
            "858/858 [==============================] - 10s 11ms/step - loss: 0.2491 - accuracy: 0.9276 - val_loss: 3.1609 - val_accuracy: 0.5989\n",
            "Epoch 6/10\n",
            "858/858 [==============================] - 9s 10ms/step - loss: 0.2141 - accuracy: 0.9433 - val_loss: 0.9955 - val_accuracy: 0.7828\n",
            "Epoch 7/10\n",
            "858/858 [==============================] - 11s 13ms/step - loss: 0.1808 - accuracy: 0.9525 - val_loss: 1.2043 - val_accuracy: 0.7835\n",
            "Epoch 8/10\n",
            "858/858 [==============================] - 14s 16ms/step - loss: 0.1744 - accuracy: 0.9598 - val_loss: 0.9385 - val_accuracy: 0.8436\n",
            "Epoch 9/10\n",
            "858/858 [==============================] - 9s 11ms/step - loss: 0.1617 - accuracy: 0.9640 - val_loss: 1.5222 - val_accuracy: 0.7677\n",
            "Epoch 10/10\n",
            "858/858 [==============================] - 9s 11ms/step - loss: 0.1466 - accuracy: 0.9689 - val_loss: 1.3877 - val_accuracy: 0.8003\n"
          ]
        }
      ],
      "source": [
        "history=model.fit(x_train, y_train, epochs=10, verbose=1, validation_data=(x_valid, y_valid))"
      ]
    },
    {
      "cell_type": "code",
      "source": [
        "metrics = history.history\n",
        "plt.plot(history.epoch, metrics['accuracy'], metrics['val_accuracy'])\n",
        "plt.legend(['Accuracy', 'val_accuracy'])\n",
        "plt.show()"
      ],
      "metadata": {
        "colab": {
          "base_uri": "https://localhost:8080/",
          "height": 430
        },
        "id": "hojMRMwWXAXw",
        "outputId": "408f4f0a-145b-4931-8906-991d187ef3dc"
      },
      "execution_count": null,
      "outputs": [
        {
          "output_type": "display_data",
          "data": {
            "text/plain": [
              "<Figure size 640x480 with 1 Axes>"
            ],
            "image/png": "[encoded data removed]"
          },
          "metadata": {}
        }
      ]
    },
    {
      "cell_type": "markdown",
      "metadata": {
        "id": "6gBpCdCDYPU4"
      },
      "source": [
        "## Summary"
      ]
    },
    {
      "cell_type": "markdown",
      "metadata": {
        "id": "0TQj9DCaYPU5"
      },
      "source": [
        "In this section you built your own neural network to perform image classification that is quite accurate. Congrats!\n",
        "\n",
        "At this point we should be getting somewhat familiar with the process of loading data (incuding labels), preparing it, creating a model, and then training the model with prepared data."
      ]
    },
    {
      "cell_type": "markdown",
      "source": [
        "## Next"
      ],
      "metadata": {
        "id": "AJqKarLskrYQ"
      }
    },
    {
      "cell_type": "markdown",
      "source": [
        "The previous model employed fully connected neural networks, which achieved relatively good performance. In the upcoming lab, we will switch to convolutional neural networks (CNNs) for computer vision tasks, leveraging their weight-sharing properties to process image data more effectively. CNNs are considered superior to fully connected networks in this context."
      ],
      "metadata": {
        "id": "3HCNA-FyktAy"
      }
    },
    {
      "cell_type": "markdown",
      "metadata": {
        "id": "w2FCYUxUYPU5"
      },
      "source": [
        "# Lab: Convolutional Neural Networks"
      ]
    },
    {
      "cell_type": "markdown",
      "metadata": {
        "id": "C_2Zj0DHYPU6"
      },
      "source": [
        "In the previous section, we built and trained a simple model to classify ASL images. The model was able to learn how to correctly classify the training dataset with very high accuracy, but, it did not perform nearly as well on validation dataset. This behavior of not generalizing well to non-training data is called [overfitting](https://scikit-learn.org/stable/auto_examples/model_selection/plot_underfitting_overfitting.html), and in this section, we will introduce a popular kind of model called a [convolutional neural network](https://towardsdatascience.com/a-comprehensive-guide-to-convolutional-neural-networks-the-eli5-way-3bd2b1164a53) that is especially good for reading images and classifying them."
      ]
    },
    {
      "cell_type": "markdown",
      "metadata": {
        "id": "2RJWsagnYPU6"
      },
      "source": [
        "## Objectives"
      ]
    },
    {
      "cell_type": "markdown",
      "metadata": {
        "id": "WpnjtDpTYPU6"
      },
      "source": [
        "* Prep data specifically for a CNN\n",
        "* Create a more sophisticated CNN model, understanding a greater variety of model layers\n",
        "* Train a CNN model and observe its performance"
      ]
    },
    {
      "cell_type": "markdown",
      "metadata": {
        "id": "jPYhMmPuYPU6"
      },
      "source": [
        "## Loading and Preparing the Data"
      ]
    },
    {
      "cell_type": "markdown",
      "metadata": {
        "id": "PuKg5ke5YPU6"
      },
      "source": [
        "The below cell contains the data preprocessing techniques we learned in the previous labs. Review it and execute it before moving on:"
      ]
    },
    {
      "cell_type": "code",
      "execution_count": null,
      "metadata": {
        "id": "0AZZPUo6YPU6"
      },
      "outputs": [],
      "source": [
        "import tensorflow.keras as keras\n",
        "import pandas as pd\n",
        "\n",
        "# Load in our data from CSV files\n",
        "train_df = pd.read_csv(\"sign_mnist_train.csv\")\n",
        "valid_df = pd.read_csv(\"sign_mnist_test.csv\")\n",
        "\n",
        "# Separate out our target values\n",
        "y_train = train_df['label']\n",
        "y_valid = valid_df['label']\n",
        "del train_df['label']\n",
        "del valid_df['label']\n",
        "\n",
        "# Separate out our image vectors\n",
        "x_train = train_df.values\n",
        "x_valid = valid_df.values\n",
        "\n",
        "# Turn our scalar targets into binary categories\n",
        "num_classes = 26\n",
        "y_train = keras.utils.to_categorical(y_train, num_classes)\n",
        "y_valid = keras.utils.to_categorical(y_valid, num_classes)\n",
        "\n",
        "# Normalize our image data\n",
        "x_train = x_train / 255\n",
        "x_valid = x_valid / 255"
      ]
    },
    {
      "cell_type": "markdown",
      "metadata": {
        "id": "7E1u2ASoYPU6"
      },
      "source": [
        "## Reshaping Images for a CNN"
      ]
    },
    {
      "cell_type": "markdown",
      "metadata": {
        "id": "T3WO9LUAYPU6"
      },
      "source": [
        "In the last exercise, the individual pictures in our dataset are in the format of long lists of 784 pixels:"
      ]
    },
    {
      "cell_type": "code",
      "execution_count": null,
      "metadata": {
        "id": "H2RkFdaWYPU6",
        "colab": {
          "base_uri": "https://localhost:8080/"
        },
        "outputId": "98255c84-5cbb-45e2-882a-826ba2da3ebd"
      },
      "outputs": [
        {
          "output_type": "execute_result",
          "data": {
            "text/plain": [
              "((27455, 784), (7172, 784))"
            ]
          },
          "metadata": {},
          "execution_count": 42
        }
      ],
      "source": [
        "x_train.shape, x_valid.shape"
      ]
    },
    {
      "cell_type": "markdown",
      "metadata": {
        "id": "1LeOkf2vYPU6"
      },
      "source": [
        "In this format, we don't have all the information about which pixels are near each other. Because of this, we can't apply convolutions that will detect features. Let's reshape our dataset so that they are in a 28x28 pixel format. This will allow our convolutions to associate groups of pixels and detect important features.\n",
        "\n",
        "Note that for the first convolutional layer of our model, we need to have not only the height and width of the image, but also the number of [color channels](https://www.photoshopessentials.com/essentials/rgb/). Our images are grayscale, so we'll just have 1 channel.\n",
        "\n",
        "That means that we need to convert the current shape `(27455, 784)` to `(27455, 28, 28, 1)`. As a convenience, we can pass the [reshape](https://numpy.org/doc/stable/reference/generated/numpy.reshape.html#numpy.reshape) method a `-1` for any dimension we wish to remain the same, therefore:"
      ]
    },
    {
      "cell_type": "code",
      "execution_count": null,
      "metadata": {
        "id": "SNbti7AIYPU7"
      },
      "outputs": [],
      "source": [
        "x_train = x_train.reshape(-1,28,28,1)\n",
        "x_valid = x_valid.reshape(-1,28,28,1)"
      ]
    },
    {
      "cell_type": "code",
      "execution_count": null,
      "metadata": {
        "id": "8P6uJzsIYPU7",
        "colab": {
          "base_uri": "https://localhost:8080/"
        },
        "outputId": "55b0a9cd-69c3-4fec-f25f-98c16da1d5ea"
      },
      "outputs": [
        {
          "output_type": "execute_result",
          "data": {
            "text/plain": [
              "(27455, 28, 28, 1)"
            ]
          },
          "metadata": {},
          "execution_count": 44
        }
      ],
      "source": [
        "x_train.shape"
      ]
    },
    {
      "cell_type": "code",
      "execution_count": null,
      "metadata": {
        "id": "ghcxHa5CYPU7",
        "colab": {
          "base_uri": "https://localhost:8080/"
        },
        "outputId": "d3873335-191a-40ab-9245-19f8450ee666"
      },
      "outputs": [
        {
          "output_type": "execute_result",
          "data": {
            "text/plain": [
              "(7172, 28, 28, 1)"
            ]
          },
          "metadata": {},
          "execution_count": 45
        }
      ],
      "source": [
        "x_valid.shape"
      ]
    },
    {
      "cell_type": "code",
      "execution_count": null,
      "metadata": {
        "id": "8ndZeppSYPU7",
        "colab": {
          "base_uri": "https://localhost:8080/"
        },
        "outputId": "9e62f945-ba72-4f9c-adcc-489f7fbebb16"
      },
      "outputs": [
        {
          "output_type": "execute_result",
          "data": {
            "text/plain": [
              "((27455, 28, 28, 1), (7172, 28, 28, 1))"
            ]
          },
          "metadata": {},
          "execution_count": 46
        }
      ],
      "source": [
        "x_train.shape, x_valid.shape"
      ]
    },
    {
      "cell_type": "markdown",
      "metadata": {
        "id": "f5GgfcVrYPU7"
      },
      "source": [
        "## Creating a Convolutional Model"
      ]
    },
    {
      "cell_type": "markdown",
      "metadata": {
        "id": "ewNJwDg-YPU7"
      },
      "source": [
        "These days, many data scientists start their projects by borrowing model properties from a similar project. Assuming the problem is not totally unique, there's a great chance that people have created models that will perform well which are posted in online repositories like [TensorFlow Hub](https://www.tensorflow.org/hub) and the [PyTorch Hub](https://pytorch.org/hub/). However, today we'll provide a model that is simpler to study and understand but still will work well for this problem.\n",
        "\n",
        "We covered many of the different kinds of layers in the lecture, and we will go over them all here with links to their documentation. When in doubt, read the official documentation (or ask [stackoverflow](https://stackoverflow.com/))."
      ]
    },
    {
      "cell_type": "code",
      "source": [],
      "metadata": {
        "id": "VmenpvS2uCbP"
      },
      "execution_count": null,
      "outputs": []
    },
    {
      "cell_type": "code",
      "execution_count": null,
      "metadata": {
        "id": "6oH1d8WvYPU8"
      },
      "outputs": [],
      "source": [
        "from tensorflow.keras.models import Sequential\n",
        "from tensorflow.keras.layers import (\n",
        "    Dense,\n",
        "    Conv2D,\n",
        "    MaxPool2D,\n",
        "    Flatten,\n",
        "    Dropout,\n",
        "    BatchNormalization,\n",
        ")\n",
        "\n",
        "model = Sequential()\n",
        "model.add(Conv2D(50, (3, 3), strides=1, padding=\"same\", activation=\"relu\",\n",
        "                 input_shape=(28, 28, 1)))\n",
        "model.add(BatchNormalization())\n",
        "model.add(MaxPool2D((2, 2), strides=2, padding=\"same\"))\n",
        "model.add(Conv2D(25, (3, 3), strides=1, padding=\"same\", activation=\"relu\"))\n",
        "model.add(BatchNormalization())\n",
        "model.add(MaxPool2D((2, 2), strides=2, padding=\"same\"))\n",
        "model.add(Flatten())\n",
        "model.add(Dense(units=128, activation=\"relu\"))\n",
        "model.add(Dropout(0.3))\n",
        "model.add(Dense(units=num_classes, activation=\"softmax\"))"
      ]
    },
    {
      "cell_type": "markdown",
      "source": [
        "Show the model structure"
      ],
      "metadata": {
        "id": "RdZKoysRYN18"
      }
    },
    {
      "cell_type": "code",
      "source": [
        "keras.utils.plot_model(model, show_shapes=True)\n"
      ],
      "metadata": {
        "colab": {
          "base_uri": "https://localhost:8080/",
          "height": 1000
        },
        "id": "koU8wsGjYM3u",
        "outputId": "6ed5a946-20ea-4d62-eadf-6603a017d310"
      },
      "execution_count": null,
      "outputs": [
        {
          "output_type": "execute_result",
          "data": {
            "image/png": "[encoded data removed]",
            "text/plain": [
              "<IPython.core.display.Image object>"
            ]
          },
          "metadata": {},
          "execution_count": 53
        }
      ]
    },
    {
      "cell_type": "markdown",
      "metadata": {
        "id": "zgPmoceuYPU8"
      },
      "source": [
        "### [Conv2D](https://www.tensorflow.org/api_docs/python/tf/keras/layers/Conv2D)"
      ]
    },
    {
      "cell_type": "markdown",
      "metadata": {
        "id": "aVBQ296HYPU8"
      },
      "source": [
        "These are our 2D convolutional layers. Small kernels will go over the input image and detect features that are important for classification. Earlier convolutions in the model will detect simple features such as lines. Later convolutions will detect more complex features. Let's look at our first Conv2D layer:\n",
        "```Python\n",
        "model.add(Conv2D(75 , (3,3) , strides = 1 , padding = 'same'...)\n",
        "```\n",
        "75 refers to the number of filters that will be learned. (3,3) refers to the size of those filters. Strides refer to the step size that the filter will take as it passes over the image. Padding refers to whether the output image that's created from the filter will match the size of the input image."
      ]
    },
    {
      "cell_type": "markdown",
      "metadata": {
        "id": "5l2y1LjSYPU8"
      },
      "source": [
        "### [BatchNormalization](https://www.tensorflow.org/api_docs/python/tf/keras/layers/BatchNormalization)"
      ]
    },
    {
      "cell_type": "markdown",
      "metadata": {
        "id": "xdW0hxbrYPU8"
      },
      "source": [
        "Like normalizing our inputs, batch normalization scales the values in the hidden layers to improve training. [Read more about it in detail here](https://blog.paperspace.com/busting-the-myths-about-batch-normalization/)."
      ]
    },
    {
      "cell_type": "markdown",
      "metadata": {
        "id": "HHQfnWqgYPU8"
      },
      "source": [
        "### [MaxPool2D](https://www.tensorflow.org/api_docs/python/tf/keras/layers/MaxPool2D)"
      ]
    },
    {
      "cell_type": "markdown",
      "metadata": {
        "id": "GJN-zkVBYPU9"
      },
      "source": [
        "\n",
        "Max pooling takes an image and essentially shrinks it to a lower resolution. It does this to help the model be robust to translation (objects moving side to side), and also makes our model faster."
      ]
    },
    {
      "cell_type": "markdown",
      "metadata": {
        "id": "C2Tmj-jiYPU9"
      },
      "source": [
        "### [Dropout](https://www.tensorflow.org/api_docs/python/tf/keras/layers/Dropout)"
      ]
    },
    {
      "cell_type": "markdown",
      "metadata": {
        "id": "ld3fWaXaYPU9"
      },
      "source": [
        "Dropout is a technique for preventing overfitting. Dropout randomly selects a subset of neurons and turns them off, so that they do not participate in forward or backward propagation in that particular pass. This helps to make sure that the network is robust and redundant, and does not rely on any one area to come up with answers.    "
      ]
    },
    {
      "cell_type": "markdown",
      "metadata": {
        "id": "dqI4NF9KYPU9"
      },
      "source": [
        "### [Flatten](https://www.tensorflow.org/api_docs/python/tf/keras/layers/Flatten)"
      ]
    },
    {
      "cell_type": "markdown",
      "metadata": {
        "id": "YF2q9eboYPU9"
      },
      "source": [
        "Flatten takes the output of one layer which is multidimensional, and flattens it into a one-dimensional array. The output is called a feature vector and will be connected to the final classification layer."
      ]
    },
    {
      "cell_type": "markdown",
      "metadata": {
        "id": "5YN7nN3XYPU9"
      },
      "source": [
        "### [Dense](https://www.tensorflow.org/api_docs/python/tf/keras/layers/Dense)"
      ]
    },
    {
      "cell_type": "markdown",
      "metadata": {
        "id": "LUtotLR8YPU9"
      },
      "source": [
        "We have seen dense layers before in our earlier models. Our first dense layer (512 units) takes the feature vector as input and learns which features will contribute to a particular classification. The second dense layer (24 units) is the final classification layer that outputs our prediction."
      ]
    },
    {
      "cell_type": "markdown",
      "metadata": {
        "id": "W3RG9EziYPU9"
      },
      "source": [
        "## Summarizing the Model"
      ]
    },
    {
      "cell_type": "markdown",
      "metadata": {
        "id": "WQ_p4l8TYPU9"
      },
      "source": [
        "This may feel like a lot of information, but don't worry. It's not critical that to understand everything right now in order to effectively train convolutional models. Most importantly we know that they can help with extracting useful information from images, and can be used in classification tasks."
      ]
    },
    {
      "cell_type": "markdown",
      "metadata": {
        "id": "tfgVKSN4YPU9"
      },
      "source": [
        "Here, we summarize the model we just created. Notice how it has fewer trainable parameters than the model in the previous notebook:"
      ]
    },
    {
      "cell_type": "code",
      "execution_count": null,
      "metadata": {
        "id": "5OhMPhMMYPU9",
        "colab": {
          "base_uri": "https://localhost:8080/"
        },
        "outputId": "0115b7f0-a50c-47c5-c1c8-5d2e0b3bda56"
      },
      "outputs": [
        {
          "output_type": "stream",
          "name": "stdout",
          "text": [
            "Model: \"sequential_2\"\n",
            "_________________________________________________________________\n",
            " Layer (type)                Output Shape              Param #   \n",
            "=================================================================\n",
            " conv2d_3 (Conv2D)           (None, 28, 28, 50)        500       \n",
            "                                                                 \n",
            " batch_normalization_3 (Batc  (None, 28, 28, 50)       200       \n",
            " hNormalization)                                                 \n",
            "                                                                 \n",
            " max_pooling2d_3 (MaxPooling  (None, 14, 14, 50)       0         \n",
            " 2D)                                                             \n",
            "                                                                 \n",
            " conv2d_4 (Conv2D)           (None, 14, 14, 25)        11275     \n",
            "                                                                 \n",
            " batch_normalization_4 (Batc  (None, 14, 14, 25)       100       \n",
            " hNormalization)                                                 \n",
            "                                                                 \n",
            " max_pooling2d_4 (MaxPooling  (None, 7, 7, 25)         0         \n",
            " 2D)                                                             \n",
            "                                                                 \n",
            " flatten_1 (Flatten)         (None, 1225)              0         \n",
            "                                                                 \n",
            " dense_5 (Dense)             (None, 128)               156928    \n",
            "                                                                 \n",
            " dropout_2 (Dropout)         (None, 128)               0         \n",
            "                                                                 \n",
            " dense_6 (Dense)             (None, 26)                3354      \n",
            "                                                                 \n",
            "=================================================================\n",
            "Total params: 172,357\n",
            "Trainable params: 172,207\n",
            "Non-trainable params: 150\n",
            "_________________________________________________________________\n"
          ]
        }
      ],
      "source": [
        "model.summary()"
      ]
    },
    {
      "cell_type": "markdown",
      "metadata": {
        "id": "WdfgxZKjYPU-"
      },
      "source": [
        "## Compiling the Model"
      ]
    },
    {
      "cell_type": "markdown",
      "metadata": {
        "id": "CJIUbrkRYPU-"
      },
      "source": [
        "We'll compile the model just like before:"
      ]
    },
    {
      "cell_type": "code",
      "execution_count": null,
      "metadata": {
        "id": "ti-CzVamYPU-"
      },
      "outputs": [],
      "source": [
        "model.compile(loss=\"categorical_crossentropy\", metrics=[\"accuracy\"])"
      ]
    },
    {
      "cell_type": "markdown",
      "metadata": {
        "id": "nqzSsq_3YPU-"
      },
      "source": [
        "## Training the Model"
      ]
    },
    {
      "cell_type": "markdown",
      "metadata": {
        "id": "hKnW1MhpYPU-"
      },
      "source": [
        "Despite the very different model architecture, the training looks exactly the same. Run the cell below to train for some epochs and let's see if the accuracy improves:"
      ]
    },
    {
      "cell_type": "code",
      "execution_count": null,
      "metadata": {
        "id": "QjGOzyu_YPU-",
        "colab": {
          "base_uri": "https://localhost:8080/"
        },
        "outputId": "2935f057-534b-4e5e-f9a8-95af149dc027"
      },
      "outputs": [
        {
          "output_type": "stream",
          "name": "stdout",
          "text": [
            "Epoch 1/10\n",
            "858/858 [==============================] - 66s 76ms/step - loss: 0.3780 - accuracy: 0.8865 - val_loss: 0.5754 - val_accuracy: 0.8614\n",
            "Epoch 2/10\n",
            "858/858 [==============================] - 64s 74ms/step - loss: 0.0250 - accuracy: 0.9919 - val_loss: 0.4435 - val_accuracy: 0.9106\n",
            "Epoch 3/10\n",
            "858/858 [==============================] - 62s 73ms/step - loss: 0.0135 - accuracy: 0.9958 - val_loss: 0.6401 - val_accuracy: 0.8903\n",
            "Epoch 4/10\n",
            "858/858 [==============================] - 64s 74ms/step - loss: 0.0091 - accuracy: 0.9969 - val_loss: 0.4411 - val_accuracy: 0.8981\n",
            "Epoch 5/10\n",
            "858/858 [==============================] - 60s 70ms/step - loss: 0.0052 - accuracy: 0.9984 - val_loss: 1.1826 - val_accuracy: 0.8469\n",
            "Epoch 6/10\n",
            "858/858 [==============================] - 65s 76ms/step - loss: 0.0051 - accuracy: 0.9984 - val_loss: 0.3749 - val_accuracy: 0.9248\n",
            "Epoch 7/10\n",
            "858/858 [==============================] - 63s 74ms/step - loss: 0.0041 - accuracy: 0.9987 - val_loss: 0.5218 - val_accuracy: 0.9254\n",
            "Epoch 8/10\n",
            "858/858 [==============================] - 64s 75ms/step - loss: 0.0039 - accuracy: 0.9991 - val_loss: 0.3464 - val_accuracy: 0.9384\n",
            "Epoch 9/10\n",
            "858/858 [==============================] - 61s 71ms/step - loss: 0.0027 - accuracy: 0.9990 - val_loss: 0.3407 - val_accuracy: 0.9410\n",
            "Epoch 10/10\n",
            "858/858 [==============================] - 60s 70ms/step - loss: 0.0025 - accuracy: 0.9993 - val_loss: 0.4101 - val_accuracy: 0.9236\n"
          ]
        }
      ],
      "source": [
        "history=model.fit(x_train, y_train, epochs=10, verbose=1, validation_data=(x_valid, y_valid))"
      ]
    },
    {
      "cell_type": "code",
      "source": [
        "metrics = history.history\n",
        "plt.plot(history.epoch, metrics['accuracy'], metrics['val_accuracy'])\n",
        "plt.legend(['accuracy', 'val_accuracy'])\n",
        "plt.show()"
      ],
      "metadata": {
        "colab": {
          "base_uri": "https://localhost:8080/",
          "height": 430
        },
        "id": "_0l9PWjMZUkq",
        "outputId": "e974e38a-e442-4a21-daed-7b9f5d0c4175"
      },
      "execution_count": null,
      "outputs": [
        {
          "output_type": "display_data",
          "data": {
            "text/plain": [
              "<Figure size 640x480 with 1 Axes>"
            ],
            "image/png": "[encoded data removed]"
          },
          "metadata": {}
        }
      ]
    },
    {
      "cell_type": "markdown",
      "metadata": {
        "id": "6agD4STjYPU-"
      },
      "source": [
        "## Discussion of Results"
      ]
    },
    {
      "cell_type": "markdown",
      "metadata": {
        "id": "XeIV0h6mYPU-"
      },
      "source": [
        "It looks like this model is significantly improved! The training accuracy is very high, and the validation accuracy has improved as well. This is a great result, as all we had to do was swap in a new model.\n",
        "\n",
        "You may have noticed the validation accuracy jumping around. This is an indication that our model is still not generalizing perfectly. Fortunately, there's more that we can do. Let's talk about it in the next lecture."
      ]
    },
    {
      "cell_type": "markdown",
      "metadata": {
        "id": "vpuoslI5YPU-"
      },
      "source": [
        "## Summary"
      ]
    },
    {
      "cell_type": "markdown",
      "metadata": {
        "id": "jgdrYVG0YPU-"
      },
      "source": [
        "In this section, we utilized several new kinds of layers to implement a CNN, which performed better than the more simple model used in the last section. Hopefully the overall process of creating and training a model with prepared data is starting to become even more familiar."
      ]
    }
  ],
  "metadata": {
    "kernelspec": {
      "display_name": "Python 3 (ipykernel)",
      "language": "python",
      "name": "python3"
    },
    "language_info": {
      "codemirror_mode": {
        "name": "ipython",
        "version": 3
      },
      "file_extension": ".py",
      "mimetype": "text/x-python",
      "name": "python",
      "nbconvert_exporter": "python",
      "pygments_lexer": "ipython3",
      "version": "3.8.10"
    },
    "colab": {
      "provenance": [],
      "toc_visible": true,
      "include_colab_link": true
    }
  },
  "nbformat": 4,
  "nbformat_minor": 0
}